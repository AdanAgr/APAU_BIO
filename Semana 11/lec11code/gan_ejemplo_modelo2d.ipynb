{
 "cells": [
  {
   "cell_type": "markdown",
   "id": "00105720",
   "metadata": {},
   "source": [
    "## Ejemplo simple: modelo 2D\n",
    "\n",
    "Imaginamos que ciertos puntos representan un manifold en el espacio latente. El objetivo es entrenar un generador que pueda producir cualquier punto de esa distribución (una parábola)."
   ]
  },
  {
   "cell_type": "markdown",
   "id": "23c7536d",
   "metadata": {},
   "source": [
    "### Generación de muestras cuadráticas (x, x²)"
   ]
  },
  {
   "cell_type": "markdown",
   "id": "80d202b9",
   "metadata": {},
   "source": [
    "Comenzando con una distribución aleatoria\n",
    "\n",
    "El **Generador** y el **Discriminador** son entrenados para descubrir el manifold latente:\n",
    "\n",
    "- Puntos rojos: aprobados por el Discriminador\n",
    "- Generador puede generar puntos arbitrarios (azul), pero el objetivo es que genere puntos rojos (válidos)"
   ]
  },
  {
   "cell_type": "code",
   "execution_count": 1,
   "id": "4e89a903",
   "metadata": {},
   "outputs": [
    {
     "data": {
      "image/png": "[encoded data removed]",
      "text/plain": [
       "<Figure size 640x480 with 1 Axes>"
      ]
     },
     "metadata": {},
     "output_type": "display_data"
    }
   ],
   "source": [
    "from numpy.random import rand\n",
    "from numpy import hstack\n",
    "from matplotlib import pyplot\n",
    "import numpy as np\n",
    "\n",
    "# Generar muestras cuadráticas\n",
    "def generate_samples(n=100):\n",
    "    # Entradas aleatorias en [-0.5, 0.5]\n",
    "    X1 = rand(n) - 0.5\n",
    "    # Salidas cuadráticas\n",
    "    X2 = X1 * X1\n",
    "    # Apilar\n",
    "    X1 = X1.reshape(n, 1)\n",
    "    X2 = X2.reshape(n, 1)\n",
    "    return hstack((X1, X2))\n",
    "\n",
    "# Muestras reales (rojas)\n",
    "data = generate_samples()\n",
    "# Muestras aleatorias (azules)\n",
    "data2 = np.random.uniform(-0.5, 0.5, size=(100, 2))\n",
    "\n",
    "# Graficar\n",
    "pyplot.scatter(data[:, 0], data[:, 1], color='red')\n",
    "pyplot.scatter(data2[:, 0], data2[:, 1], color='blue')\n",
    "pyplot.show()"
   ]
  },
  {
   "cell_type": "markdown",
   "id": "48a7177c",
   "metadata": {},
   "source": [
    "### Uso de espacio latente de dimensión 5"
   ]
  },
  {
   "cell_type": "markdown",
   "id": "3c866a3f",
   "metadata": {},
   "source": [
    "- **Discriminador**: toma dos valores reales y devuelve la probabilidad de que la muestra sea real o falsa.\n",
    "  - 2 entradas (bidimensional)\n",
    "  - 1 salida (V/F)\n",
    "- **Generador**: recibe un vector en el espacio latente (dim=5) y produce dos valores reales.\n",
    "  - 5 entradas (espacio latente)\n",
    "  - 2 salidas (bidimensional)\n"
   ]
  },
  {
   "cell_type": "code",
   "execution_count": 2,
   "id": "7d10bc66",
   "metadata": {},
   "outputs": [],
   "source": [
    "from numpy.random import randn\n",
    "from numpy import zeros\n",
    "\n",
    "# Generar puntos en el espacio latente para el generador\n",
    "def generate_latent_points(latent_dim, n):\n",
    "    x_input = randn(latent_dim * n)\n",
    "    x_input = x_input.reshape(n, latent_dim)\n",
    "    return x_input\n",
    "\n",
    "# Usar el generador para crear muestras falsas\n",
    "def generate_fake_samples(generator, latent_dim, n):\n",
    "    x_input = generate_latent_points(latent_dim, n)\n",
    "    X = generator.predict(x_input)\n",
    "    y = zeros((n, 1))\n",
    "    return X, y"
   ]
  },
  {
   "cell_type": "markdown",
   "id": "d9d20719",
   "metadata": {},
   "source": [
    "### Implementación simple **Discriminador** y **Generador**"
   ]
  },
  {
   "cell_type": "code",
   "execution_count": null,
   "id": "05fbf799",
   "metadata": {},
   "outputs": [],
   "source": [
    "# Discriminador: entrada 2 reales, salida clasificación binaria\n",
    "def define_discriminator(n_inputs=2):\n",
    "    model = Sequential()\n",
    "    model.add(Dense(25, activation='relu', kernel_initializer='he_uniform', input_dim=n_inputs))\n",
    "    model.add(Dense(1, activation='sigmoid'))\n",
    "    model.compile(loss='binary_crossentropy', optimizer='adam', metrics=['accuracy'])\n",
    "    return model\n",
    "\n",
    "# Generador: entrada vector latente, salida 2 reales (x, x^2)\n",
    "def define_generator(latent_dim, n_outputs=2):\n",
    "    model = Sequential()\n",
    "    model.add(Dense(15, activation='relu', kernel_initializer='he_uniform', input_dim=latent_dim))\n",
    "    model.add(Dense(n_outputs, activation='linear'))\n",
    "    return model"
   ]
  },
  {
   "cell_type": "markdown",
   "id": "5f9c9d5f",
   "metadata": {},
   "source": [
    "### Juntando las dos redes: **GAN**"
   ]
  },
  {
   "cell_type": "code",
   "execution_count": null,
   "id": "221c12fb",
   "metadata": {},
   "outputs": [],
   "source": [
    "# GAN combinado: conecta generador y discriminador, solo se entrena el generador\n",
    "def define_gan(generator, discriminator):\n",
    "    discriminator.trainable = False  # congelar discriminador\n",
    "    model = Sequential()\n",
    "    model.add(generator)\n",
    "    model.add(discriminator)\n",
    "    model.compile(loss='binary_crossentropy', optimizer='adam')\n",
    "    return model"
   ]
  },
  {
   "cell_type": "markdown",
   "id": "e1693968",
   "metadata": {},
   "source": [
    "### Entrenamiento Min-Max"
   ]
  },
  {
   "cell_type": "markdown",
   "id": "6f854589",
   "metadata": {},
   "source": [
    "Durante el entrenamiento:\n",
    "- Se congela el discriminador cuando se entrena el generador (`discriminator.trainable = False`).\n",
    "- Se actualizan los pesos del generador para intentar engañar al discriminador.\n",
    "- Luego se actualiza el discriminador con nuevas muestras.\n",
    "\n",
    "- Los pesos del discriminador se congelan para evitar que el generador lo sobreentrene.\n",
    "- El generador se mejora a partir de la retroalimentación del discriminador.\n",
    "- Esta dinámica define un juego de suma cero (`zero-sum game`)."
   ]
  },
  {
   "cell_type": "markdown",
   "id": "cb562607",
   "metadata": {},
   "source": [
    "\n",
    "- Se alterna el entrenamiento del discriminador y del generador.\n",
    "- El discriminador aprende a distinguir entre muestras reales y falsas.\n",
    "- El generador mejora al intentar engañar al discriminador.\n",
    "\n",
    "Se minimiza la siguiente función de pérdida:\n",
    "\n",
    "$$\n",
    "L_D = -\\frac{1}{2} \\mathbb{E}_{x \\sim p_{\\text{data}}}[\\log D(x)] - \\frac{1}{2} \\mathbb{E}_{z \\sim p_z}[\\log (1 - D(G(z)))]\n",
    "$$\n",
    "\n",
    "$$\n",
    "L_G = -\\frac{1}{2} \\mathbb{E}_{z \\sim p_z}[\\log D(G(z))]\n",
    "$$\n",
    "\n",
    "$$\n",
    "L_{\\text{GAN}} = \\min_G \\max_D (L_D + L_G)\n",
    "$$\n",
    "\n",
    "Donde:\n",
    "\n",
    "- \\( D(x) \\) es la probabilidad que el discriminador asigna a una muestra real.\n",
    "- \\( G(z) \\) es la muestra generada por el generador a partir de una variable latente \\( z \\).\n",
    "- \\( p_{\\text{data}} \\) es la distribución real de los datos.\n",
    "- \\( p_z \\) es la distribución del espacio latente.\n"
   ]
  },
  {
   "cell_type": "code",
   "execution_count": null,
   "id": "926145f2",
   "metadata": {},
   "outputs": [],
   "source": [
    "# Entrenamiento GAN completo\n",
    "def train(g_model, d_model, gan_model, latent_dim, n_epochs=10000, n_batch=128, n_eval=400):\n",
    "    half_batch = int(n_batch / 2)\n",
    "    for i in range(n_epochs):\n",
    "        # muestras reales\n",
    "        X_real, y_real = generate_samples(half_batch), ones((half_batch, 1))\n",
    "        # muestras falsas\n",
    "        X_fake, y_fake = generate_fake_samples(g_model, latent_dim, half_batch)\n",
    "        # entrenar discriminador\n",
    "        d_model.train_on_batch(X_real, y_real)\n",
    "        d_model.train_on_batch(X_fake, y_fake)\n",
    "        # entrenar generador (a través del GAN)\n",
    "        x_gan = generate_latent_points(latent_dim, n_batch)\n",
    "        y_gan = ones((n_batch, 1))  # el generador quiere que el discriminador diga \"real\"\n",
    "        gan_model.train_on_batch(x_gan, y_gan)\n",
    "        # evaluar\n",
    "        if (i+1) % n_eval == 0:\n",
    "            print(f\">Epoch {i+1} evaluado\")"
   ]
  },
  {
   "cell_type": "markdown",
   "id": "a25ba9a0",
   "metadata": {},
   "source": [
    "### Resultado\n",
    "Después de muchos epochs, las muestras generadas son prácticamente indistinguibles de las reales."
   ]
  }
 ],
 "metadata": {
  "kernelspec": {
   "display_name": "python_env",
   "language": "python",
   "name": "python3"
  },
  "language_info": {
   "codemirror_mode": {
    "name": "ipython",
    "version": 3
   },
   "file_extension": ".py",
   "mimetype": "text/x-python",
   "name": "python",
   "nbconvert_exporter": "python",
   "pygments_lexer": "ipython3",
   "version": "3.11.11"
  }
 },
 "nbformat": 4,
 "nbformat_minor": 5
}
