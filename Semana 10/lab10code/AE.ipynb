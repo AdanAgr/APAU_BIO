{
  "cells": [
    {
      "cell_type": "markdown",
      "id": "42bd4643",
      "metadata": {
        "id": "42bd4643"
      },
      "source": [
        "# Práctica 10: AEs\n",
        "\n",
        "En esta práctica usaremos un autoencoder como detector de anomalías. Para ello entrenaremos un autoenconder con un conjunto de imágenes de radiografias de tórax de individuos sanos y consideraremos como anomalías las radiografías de individuos con neumonía"
      ]
    },
    {
      "cell_type": "code",
      "execution_count": null,
      "id": "8265f8a1",
      "metadata": {
        "id": "8265f8a1",
        "colab": {
          "base_uri": "https://localhost:8080/"
        },
        "outputId": "e44c16af-1197-4270-f0bb-fa6fa7db3cb1"
      },
      "outputs": [
        {
          "output_type": "stream",
          "name": "stdout",
          "text": [
            "Requirement already satisfied: torch in /usr/local/lib/python3.11/dist-packages (2.5.1+cu124)\n",
            "Requirement already satisfied: numpy in /usr/local/lib/python3.11/dist-packages (1.26.4)\n",
            "Requirement already satisfied: matplotlib in /usr/local/lib/python3.11/dist-packages (3.10.0)\n",
            "Requirement already satisfied: scikit-image in /usr/local/lib/python3.11/dist-packages (0.25.2)\n",
            "Requirement already satisfied: cython in /usr/local/lib/python3.11/dist-packages (3.0.12)\n",
            "Requirement already satisfied: setuptools in /usr/local/lib/python3.11/dist-packages (75.1.0)\n",
            "Collecting medmnist\n",
            "  Downloading medmnist-3.0.2-py3-none-any.whl.metadata (14 kB)\n",
            "Requirement already satisfied: filelock in /usr/local/lib/python3.11/dist-packages (from torch) (3.17.0)\n",
            "Requirement already satisfied: typing-extensions>=4.8.0 in /usr/local/lib/python3.11/dist-packages (from torch) (4.12.2)\n",
            "Requirement already satisfied: networkx in /usr/local/lib/python3.11/dist-packages (from torch) (3.4.2)\n",
            "Requirement already satisfied: jinja2 in /usr/local/lib/python3.11/dist-packages (from torch) (3.1.5)\n",
            "Requirement already satisfied: fsspec in /usr/local/lib/python3.11/dist-packages (from torch) (2024.10.0)\n",
            "Collecting nvidia-cuda-nvrtc-cu12==12.4.127 (from torch)\n",
            "  Downloading nvidia_cuda_nvrtc_cu12-12.4.127-py3-none-manylinux2014_x86_64.whl.metadata (1.5 kB)\n",
            "Collecting nvidia-cuda-runtime-cu12==12.4.127 (from torch)\n",
            "  Downloading nvidia_cuda_runtime_cu12-12.4.127-py3-none-manylinux2014_x86_64.whl.metadata (1.5 kB)\n",
            "Collecting nvidia-cuda-cupti-cu12==12.4.127 (from torch)\n",
            "  Downloading nvidia_cuda_cupti_cu12-12.4.127-py3-none-manylinux2014_x86_64.whl.metadata (1.6 kB)\n",
            "Collecting nvidia-cudnn-cu12==9.1.0.70 (from torch)\n",
            "  Downloading nvidia_cudnn_cu12-9.1.0.70-py3-none-manylinux2014_x86_64.whl.metadata (1.6 kB)\n",
            "Collecting nvidia-cublas-cu12==12.4.5.8 (from torch)\n",
            "  Downloading nvidia_cublas_cu12-12.4.5.8-py3-none-manylinux2014_x86_64.whl.metadata (1.5 kB)\n",
            "Collecting nvidia-cufft-cu12==11.2.1.3 (from torch)\n",
            "  Downloading nvidia_cufft_cu12-11.2.1.3-py3-none-manylinux2014_x86_64.whl.metadata (1.5 kB)\n",
            "Collecting nvidia-curand-cu12==10.3.5.147 (from torch)\n",
            "  Downloading nvidia_curand_cu12-10.3.5.147-py3-none-manylinux2014_x86_64.whl.metadata (1.5 kB)\n",
            "Collecting nvidia-cusolver-cu12==11.6.1.9 (from torch)\n",
            "  Downloading nvidia_cusolver_cu12-11.6.1.9-py3-none-manylinux2014_x86_64.whl.metadata (1.6 kB)\n",
            "Collecting nvidia-cusparse-cu12==12.3.1.170 (from torch)\n",
            "  Downloading nvidia_cusparse_cu12-12.3.1.170-py3-none-manylinux2014_x86_64.whl.metadata (1.6 kB)\n",
            "Requirement already satisfied: nvidia-nccl-cu12==2.21.5 in /usr/local/lib/python3.11/dist-packages (from torch) (2.21.5)\n",
            "Requirement already satisfied: nvidia-nvtx-cu12==12.4.127 in /usr/local/lib/python3.11/dist-packages (from torch) (12.4.127)\n",
            "Collecting nvidia-nvjitlink-cu12==12.4.127 (from torch)\n",
            "  Downloading nvidia_nvjitlink_cu12-12.4.127-py3-none-manylinux2014_x86_64.whl.metadata (1.5 kB)\n",
            "Requirement already satisfied: triton==3.1.0 in /usr/local/lib/python3.11/dist-packages (from torch) (3.1.0)\n",
            "Requirement already satisfied: sympy==1.13.1 in /usr/local/lib/python3.11/dist-packages (from torch) (1.13.1)\n",
            "Requirement already satisfied: mpmath<1.4,>=1.1.0 in /usr/local/lib/python3.11/dist-packages (from sympy==1.13.1->torch) (1.3.0)\n",
            "Requirement already satisfied: contourpy>=1.0.1 in /usr/local/lib/python3.11/dist-packages (from matplotlib) (1.3.1)\n",
            "Requirement already satisfied: cycler>=0.10 in /usr/local/lib/python3.11/dist-packages (from matplotlib) (0.12.1)\n",
            "Requirement already satisfied: fonttools>=4.22.0 in /usr/local/lib/python3.11/dist-packages (from matplotlib) (4.56.0)\n",
            "Requirement already satisfied: kiwisolver>=1.3.1 in /usr/local/lib/python3.11/dist-packages (from matplotlib) (1.4.8)\n",
            "Requirement already satisfied: packaging>=20.0 in /usr/local/lib/python3.11/dist-packages (from matplotlib) (24.2)\n",
            "Requirement already satisfied: pillow>=8 in /usr/local/lib/python3.11/dist-packages (from matplotlib) (11.1.0)\n",
            "Requirement already satisfied: pyparsing>=2.3.1 in /usr/local/lib/python3.11/dist-packages (from matplotlib) (3.2.1)\n",
            "Requirement already satisfied: python-dateutil>=2.7 in /usr/local/lib/python3.11/dist-packages (from matplotlib) (2.8.2)\n",
            "Requirement already satisfied: scipy>=1.11.4 in /usr/local/lib/python3.11/dist-packages (from scikit-image) (1.13.1)\n",
            "Requirement already satisfied: imageio!=2.35.0,>=2.33 in /usr/local/lib/python3.11/dist-packages (from scikit-image) (2.37.0)\n",
            "Requirement already satisfied: tifffile>=2022.8.12 in /usr/local/lib/python3.11/dist-packages (from scikit-image) (2025.2.18)\n",
            "Requirement already satisfied: lazy-loader>=0.4 in /usr/local/lib/python3.11/dist-packages (from scikit-image) (0.4)\n",
            "Requirement already satisfied: pandas in /usr/local/lib/python3.11/dist-packages (from medmnist) (2.2.2)\n",
            "Requirement already satisfied: scikit-learn in /usr/local/lib/python3.11/dist-packages (from medmnist) (1.6.1)\n",
            "Requirement already satisfied: tqdm in /usr/local/lib/python3.11/dist-packages (from medmnist) (4.67.1)\n",
            "Collecting fire (from medmnist)\n",
            "  Downloading fire-0.7.0.tar.gz (87 kB)\n",
            "\u001b[2K     \u001b[90m━━━━━━━━━━━━━━━━━━━━━━━━━━━━━━━━━━━━━━━━\u001b[0m \u001b[32m87.2/87.2 kB\u001b[0m \u001b[31m3.2 MB/s\u001b[0m eta \u001b[36m0:00:00\u001b[0m\n",
            "\u001b[?25h  Preparing metadata (setup.py) ... \u001b[?25l\u001b[?25hdone\n",
            "Requirement already satisfied: torchvision in /usr/local/lib/python3.11/dist-packages (from medmnist) (0.20.1+cu124)\n",
            "Requirement already satisfied: six>=1.5 in /usr/local/lib/python3.11/dist-packages (from python-dateutil>=2.7->matplotlib) (1.17.0)\n",
            "Requirement already satisfied: termcolor in /usr/local/lib/python3.11/dist-packages (from fire->medmnist) (2.5.0)\n",
            "Requirement already satisfied: MarkupSafe>=2.0 in /usr/local/lib/python3.11/dist-packages (from jinja2->torch) (3.0.2)\n",
            "Requirement already satisfied: pytz>=2020.1 in /usr/local/lib/python3.11/dist-packages (from pandas->medmnist) (2025.1)\n",
            "Requirement already satisfied: tzdata>=2022.7 in /usr/local/lib/python3.11/dist-packages (from pandas->medmnist) (2025.1)\n",
            "Requirement already satisfied: joblib>=1.2.0 in /usr/local/lib/python3.11/dist-packages (from scikit-learn->medmnist) (1.4.2)\n",
            "Requirement already satisfied: threadpoolctl>=3.1.0 in /usr/local/lib/python3.11/dist-packages (from scikit-learn->medmnist) (3.5.0)\n",
            "Downloading nvidia_cublas_cu12-12.4.5.8-py3-none-manylinux2014_x86_64.whl (363.4 MB)\n",
            "\u001b[2K   \u001b[90m━━━━━━━━━━━━━━━━━━━━━━━━━━━━━━━━━━━━━━━━\u001b[0m \u001b[32m363.4/363.4 MB\u001b[0m \u001b[31m3.7 MB/s\u001b[0m eta \u001b[36m0:00:00\u001b[0m\n",
            "\u001b[?25hDownloading nvidia_cuda_cupti_cu12-12.4.127-py3-none-manylinux2014_x86_64.whl (13.8 MB)\n",
            "\u001b[2K   \u001b[90m━━━━━━━━━━━━━━━━━━━━━━━━━━━━━━━━━━━━━━━━\u001b[0m \u001b[32m13.8/13.8 MB\u001b[0m \u001b[31m29.5 MB/s\u001b[0m eta \u001b[36m0:00:00\u001b[0m\n",
            "\u001b[?25hDownloading nvidia_cuda_nvrtc_cu12-12.4.127-py3-none-manylinux2014_x86_64.whl (24.6 MB)\n",
            "\u001b[2K   \u001b[90m━━━━━━━━━━━━━━━━━━━━━━━━━━━━━━━━━━━━━━━━\u001b[0m \u001b[32m24.6/24.6 MB\u001b[0m \u001b[31m24.6 MB/s\u001b[0m eta \u001b[36m0:00:00\u001b[0m\n",
            "\u001b[?25hDownloading nvidia_cuda_runtime_cu12-12.4.127-py3-none-manylinux2014_x86_64.whl (883 kB)\n",
            "\u001b[2K   \u001b[90m━━━━━━━━━━━━━━━━━━━━━━━━━━━━━━━━━━━━━━━━\u001b[0m \u001b[32m883.7/883.7 kB\u001b[0m \u001b[31m22.7 MB/s\u001b[0m eta \u001b[36m0:00:00\u001b[0m\n",
            "\u001b[?25hDownloading nvidia_cudnn_cu12-9.1.0.70-py3-none-manylinux2014_x86_64.whl (664.8 MB)\n",
            "\u001b[2K   \u001b[90m━━━━━━━━━━━━━━━━━━━━━━━━━━━━━━━━━━━━━━━━\u001b[0m \u001b[32m664.8/664.8 MB\u001b[0m \u001b[31m2.7 MB/s\u001b[0m eta \u001b[36m0:00:00\u001b[0m\n",
            "\u001b[?25hDownloading nvidia_cufft_cu12-11.2.1.3-py3-none-manylinux2014_x86_64.whl (211.5 MB)\n",
            "\u001b[2K   \u001b[90m━━━━━━━━━━━━━━━━━━━━━━━━━━━━━━━━━━━━━━━━\u001b[0m \u001b[32m211.5/211.5 MB\u001b[0m \u001b[31m5.3 MB/s\u001b[0m eta \u001b[36m0:00:00\u001b[0m\n",
            "\u001b[?25hDownloading nvidia_curand_cu12-10.3.5.147-py3-none-manylinux2014_x86_64.whl (56.3 MB)\n",
            "\u001b[2K   \u001b[90m━━━━━━━━━━━━━━━━━━━━━━━━━━━━━━━━━━━━━━━━\u001b[0m \u001b[32m56.3/56.3 MB\u001b[0m \u001b[31m16.4 MB/s\u001b[0m eta \u001b[36m0:00:00\u001b[0m\n",
            "\u001b[?25hDownloading nvidia_cusolver_cu12-11.6.1.9-py3-none-manylinux2014_x86_64.whl (127.9 MB)\n",
            "\u001b[2K   \u001b[90m━━━━━━━━━━━━━━━━━━━━━━━━━━━━━━━━━━━━━━━━\u001b[0m \u001b[32m127.9/127.9 MB\u001b[0m \u001b[31m7.5 MB/s\u001b[0m eta \u001b[36m0:00:00\u001b[0m\n",
            "\u001b[?25hDownloading nvidia_cusparse_cu12-12.3.1.170-py3-none-manylinux2014_x86_64.whl (207.5 MB)\n",
            "\u001b[2K   \u001b[90m━━━━━━━━━━━━━━━━━━━━━━━━━━━━━━━━━━━━━━━━\u001b[0m \u001b[32m207.5/207.5 MB\u001b[0m \u001b[31m5.2 MB/s\u001b[0m eta \u001b[36m0:00:00\u001b[0m\n",
            "\u001b[?25hDownloading nvidia_nvjitlink_cu12-12.4.127-py3-none-manylinux2014_x86_64.whl (21.1 MB)\n",
            "\u001b[2K   \u001b[90m━━━━━━━━━━━━━━━━━━━━━━━━━━━━━━━━━━━━━━━━\u001b[0m \u001b[32m21.1/21.1 MB\u001b[0m \u001b[31m52.2 MB/s\u001b[0m eta \u001b[36m0:00:00\u001b[0m\n",
            "\u001b[?25hDownloading medmnist-3.0.2-py3-none-any.whl (25 kB)\n",
            "Building wheels for collected packages: fire\n",
            "  Building wheel for fire (setup.py) ... \u001b[?25l\u001b[?25hdone\n",
            "  Created wheel for fire: filename=fire-0.7.0-py3-none-any.whl size=114249 sha256=706602044960d2a087b7a756fdbc8c68e8c3de981d2ae592b8380b2ac8316757\n",
            "  Stored in directory: /root/.cache/pip/wheels/46/54/24/1624fd5b8674eb1188623f7e8e17cdf7c0f6c24b609dfb8a89\n",
            "Successfully built fire\n",
            "Installing collected packages: nvidia-nvjitlink-cu12, nvidia-curand-cu12, nvidia-cufft-cu12, nvidia-cuda-runtime-cu12, nvidia-cuda-nvrtc-cu12, nvidia-cuda-cupti-cu12, nvidia-cublas-cu12, fire, nvidia-cusparse-cu12, nvidia-cudnn-cu12, nvidia-cusolver-cu12, medmnist\n",
            "  Attempting uninstall: nvidia-nvjitlink-cu12\n",
            "    Found existing installation: nvidia-nvjitlink-cu12 12.5.82\n",
            "    Uninstalling nvidia-nvjitlink-cu12-12.5.82:\n",
            "      Successfully uninstalled nvidia-nvjitlink-cu12-12.5.82\n",
            "  Attempting uninstall: nvidia-curand-cu12\n",
            "    Found existing installation: nvidia-curand-cu12 10.3.6.82\n",
            "    Uninstalling nvidia-curand-cu12-10.3.6.82:\n",
            "      Successfully uninstalled nvidia-curand-cu12-10.3.6.82\n",
            "  Attempting uninstall: nvidia-cufft-cu12\n",
            "    Found existing installation: nvidia-cufft-cu12 11.2.3.61\n",
            "    Uninstalling nvidia-cufft-cu12-11.2.3.61:\n",
            "      Successfully uninstalled nvidia-cufft-cu12-11.2.3.61\n",
            "  Attempting uninstall: nvidia-cuda-runtime-cu12\n",
            "    Found existing installation: nvidia-cuda-runtime-cu12 12.5.82\n",
            "    Uninstalling nvidia-cuda-runtime-cu12-12.5.82:\n",
            "      Successfully uninstalled nvidia-cuda-runtime-cu12-12.5.82\n",
            "  Attempting uninstall: nvidia-cuda-nvrtc-cu12\n",
            "    Found existing installation: nvidia-cuda-nvrtc-cu12 12.5.82\n",
            "    Uninstalling nvidia-cuda-nvrtc-cu12-12.5.82:\n",
            "      Successfully uninstalled nvidia-cuda-nvrtc-cu12-12.5.82\n",
            "  Attempting uninstall: nvidia-cuda-cupti-cu12\n",
            "    Found existing installation: nvidia-cuda-cupti-cu12 12.5.82\n",
            "    Uninstalling nvidia-cuda-cupti-cu12-12.5.82:\n",
            "      Successfully uninstalled nvidia-cuda-cupti-cu12-12.5.82\n",
            "  Attempting uninstall: nvidia-cublas-cu12\n",
            "    Found existing installation: nvidia-cublas-cu12 12.5.3.2\n",
            "    Uninstalling nvidia-cublas-cu12-12.5.3.2:\n",
            "      Successfully uninstalled nvidia-cublas-cu12-12.5.3.2\n",
            "  Attempting uninstall: nvidia-cusparse-cu12\n",
            "    Found existing installation: nvidia-cusparse-cu12 12.5.1.3\n",
            "    Uninstalling nvidia-cusparse-cu12-12.5.1.3:\n",
            "      Successfully uninstalled nvidia-cusparse-cu12-12.5.1.3\n",
            "  Attempting uninstall: nvidia-cudnn-cu12\n",
            "    Found existing installation: nvidia-cudnn-cu12 9.3.0.75\n",
            "    Uninstalling nvidia-cudnn-cu12-9.3.0.75:\n",
            "      Successfully uninstalled nvidia-cudnn-cu12-9.3.0.75\n",
            "  Attempting uninstall: nvidia-cusolver-cu12\n",
            "    Found existing installation: nvidia-cusolver-cu12 11.6.3.83\n",
            "    Uninstalling nvidia-cusolver-cu12-11.6.3.83:\n",
            "      Successfully uninstalled nvidia-cusolver-cu12-11.6.3.83\n",
            "Successfully installed fire-0.7.0 medmnist-3.0.2 nvidia-cublas-cu12-12.4.5.8 nvidia-cuda-cupti-cu12-12.4.127 nvidia-cuda-nvrtc-cu12-12.4.127 nvidia-cuda-runtime-cu12-12.4.127 nvidia-cudnn-cu12-9.1.0.70 nvidia-cufft-cu12-11.2.1.3 nvidia-curand-cu12-10.3.5.147 nvidia-cusolver-cu12-11.6.1.9 nvidia-cusparse-cu12-12.3.1.170 nvidia-nvjitlink-cu12-12.4.127\n"
          ]
        }
      ],
      "source": [
        "!pip install torch numpy matplotlib scikit-image cython setuptools medmnist"
      ]
    },
    {
      "cell_type": "code",
      "source": [
        "### EVITAR ERRORES\n",
        "\n",
        "!uv pip install -q --system numba-cuda==0.4.0\n",
        "\n",
        "from numba import config\n",
        "config.CUDA_ENABLE_PYNVJITLINK = 1"
      ],
      "metadata": {
        "id": "4fNaTLRjEBlz"
      },
      "id": "4fNaTLRjEBlz",
      "execution_count": null,
      "outputs": []
    },
    {
      "cell_type": "code",
      "execution_count": null,
      "id": "c130de11",
      "metadata": {
        "colab": {
          "base_uri": "https://localhost:8080/"
        },
        "id": "c130de11",
        "outputId": "7746b5ea-d311-4d27-9f8a-b944edfe6b29"
      },
      "outputs": [
        {
          "output_type": "stream",
          "name": "stdout",
          "text": [
            "1.26.4\n"
          ]
        }
      ],
      "source": [
        "import numpy as np\n",
        "print(np.__version__)"
      ]
    },
    {
      "cell_type": "markdown",
      "id": "76da87de",
      "metadata": {
        "id": "76da87de"
      },
      "source": [
        "## Dataset\n",
        "\n",
        "Usaremos un subconjunto de [__MedMNIST__](https://medmnist.com/): un dataset con diversos conjuntos de datos de imágenes médicas. En concreto usaremos __PneumoniaMNIST__, que tiene las siguientes características:\n",
        "- Más de 5000 imágenes divididas en conjuntos de training, validation y testing.\n",
        "- Imágenes monocromas de 28x28 píxeles\n",
        "- Directamente utilizable desde pytorch\n",
        "- Cada imagen tiene una etiqueta asociada que indica si la imagen es de un individuo sano o con neumonía.\n",
        "\n",
        "Para poder utilizar el dataset, primero deberemos instalar el paquete medmnist: ``pip install medmnist``\n",
        "\n",
        "A continuación se incluye un código python que permite un acceso básico al dataset y muestra mosaicos de imágenes de individuos sanos y con neumonía."
      ]
    },
    {
      "cell_type": "code",
      "execution_count": null,
      "id": "84ef13ba",
      "metadata": {
        "colab": {
          "base_uri": "https://localhost:8080/"
        },
        "id": "84ef13ba",
        "outputId": "ce9456d7-8836-47f0-bfbc-c1be6463249b"
      },
      "outputs": [
        {
          "output_type": "stream",
          "name": "stdout",
          "text": [
            "3.0.2\n"
          ]
        }
      ],
      "source": [
        "import medmnist\n",
        "import torchvision.transforms as transforms\n",
        "from torch.utils.data import DataLoader, TensorDataset, Subset\n",
        "import matplotlib.pyplot as plt\n",
        "from collections import Counter\n",
        "import torch\n",
        "import torch.nn as nn\n",
        "import torch.nn.functional as F\n",
        "import torch.optim as optim\n",
        "from sklearn.metrics import accuracy_score, confusion_matrix\n",
        "import seaborn as sns\n",
        "\n",
        "\n",
        "print(medmnist.__version__)\n",
        "from medmnist import PneumoniaMNIST"
      ]
    },
    {
      "cell_type": "code",
      "execution_count": null,
      "id": "9085ebdf-f917-4978-9f55-e727052aeada",
      "metadata": {
        "colab": {
          "base_uri": "https://localhost:8080/"
        },
        "id": "9085ebdf-f917-4978-9f55-e727052aeada",
        "outputId": "16e38918-ad63-4cc4-b8ae-5ec152839554"
      },
      "outputs": [
        {
          "output_type": "stream",
          "name": "stdout",
          "text": [
            "{'python_class': 'PneumoniaMNIST', 'description': 'The PneumoniaMNIST is based on a prior dataset of 5,856 pediatric chest X-Ray images. The task is binary-class classification of pneumonia against normal. We split the source training set with a ratio of 9:1 into training and validation set and use its source validation set as the test set. The source images are gray-scale, and their sizes are (384−2,916)×(127−2,713). We center-crop the images and resize them into 1×28×28.', 'url': 'https://zenodo.org/records/10519652/files/pneumoniamnist.npz?download=1', 'MD5': '28209eda62fecd6e6a2d98b1501bb15f', 'url_64': 'https://zenodo.org/records/10519652/files/pneumoniamnist_64.npz?download=1', 'MD5_64': '8f4eceb4ccffa70c672198ea285246c6', 'url_128': 'https://zenodo.org/records/10519652/files/pneumoniamnist_128.npz?download=1', 'MD5_128': '05b46931834c231683c68f40c47b2971', 'url_224': 'https://zenodo.org/records/10519652/files/pneumoniamnist_224.npz?download=1', 'MD5_224': 'd6a3c71de1b945ea11211b03746c1fe1', 'task': 'binary-class', 'label': {'0': 'normal', '1': 'pneumonia'}, 'n_channels': 1, 'n_samples': {'train': 4708, 'val': 524, 'test': 624}, 'license': 'CC BY 4.0'}\n",
            "Downloading https://zenodo.org/records/10519652/files/pneumoniamnist.npz?download=1 to /root/.medmnist/pneumoniamnist.npz\n"
          ]
        },
        {
          "output_type": "stream",
          "name": "stderr",
          "text": [
            "100%|██████████| 4.17M/4.17M [00:01<00:00, 3.17MB/s]\n"
          ]
        }
      ],
      "source": [
        "# Información del dataset\n",
        "download = True\n",
        "info = medmnist.INFO['pneumoniamnist']\n",
        "print(info)\n",
        "\n",
        "# Obtener la clase de datos\n",
        "DataClass = getattr(medmnist, info['python_class'])\n",
        "\n",
        "# Transformaciones de imagen\n",
        "transform = transforms.Compose([\n",
        "    transforms.ToTensor(),\n",
        "])\n",
        "\n",
        "# Cargar dataset\n",
        "train_dataset = DataClass(split='train', transform=transform, download=download)\n",
        "\n",
        "healthy_images = []\n",
        "pneumonia_images = []\n",
        "\n",
        "for img, label in train_dataset:\n",
        "    if label.item() == 0:\n",
        "        healthy_images.append(img.squeeze())  # quitar dimensión del canal\n",
        "    if len(healthy_images) == 12:\n",
        "        break\n",
        "\n",
        "for img, label in train_dataset:\n",
        "    if label.item() == 1:\n",
        "        pneumonia_images.append(img.squeeze())\n",
        "    if len(pneumonia_images) == 12:\n",
        "        break"
      ]
    },
    {
      "cell_type": "code",
      "execution_count": null,
      "id": "59c1a90b-f4dc-4be8-b0ed-acf5d059a171",
      "metadata": {
        "id": "59c1a90b-f4dc-4be8-b0ed-acf5d059a171",
        "colab": {
          "base_uri": "https://localhost:8080/",
          "height": 413
        },
        "outputId": "e68cb7cf-bffb-4ca1-f171-fdd747244c08"
      },
      "outputs": [
        {
          "output_type": "display_data",
          "data": {
            "text/plain": [
              "<Figure size 500x400 with 12 Axes>"
            ],
            "image/png": "[encoded data removed]"
          },
          "metadata": {}
        }
      ],
      "source": [
        "# Crear mosaico de imágenes sanas\n",
        "fig, axes = plt.subplots(3, 4, figsize=(5, 4))\n",
        "fig.suptitle(\"Healthy (Label = 0) Images from PneumoniaMNIST\", fontsize=16)\n",
        "for i, ax in enumerate(axes.flat):\n",
        "    ax.imshow(healthy_images[i], cmap='gray')\n",
        "    ax.axis('off')\n",
        "plt.tight_layout()\n",
        "plt.show()"
      ]
    },
    {
      "cell_type": "markdown",
      "id": "16220eaa-74ee-4054-8bbf-d3014ec96173",
      "metadata": {
        "id": "16220eaa-74ee-4054-8bbf-d3014ec96173"
      },
      "source": [
        "Obsérvese que el dataset estará compuesto de todas las imágenes, y que para distinguirlas habrá que hacer uso de la etiqueta asociada a cada imagen."
      ]
    },
    {
      "cell_type": "markdown",
      "id": "edc9e3af-526c-4661-b25a-350e99d26847",
      "metadata": {
        "id": "edc9e3af-526c-4661-b25a-350e99d26847"
      },
      "source": [
        "## Modelo\n",
        "\n",
        "Se probarán las prestaciones de modelos autoencoders estándar (AE) y variacionales (VAE). Como punto de partida se propone la estructura propuesta en el paper disponible en el siguiente [enlace](https://essay.utwente.nl/98159/1/Reve_BA_EEMCS.pdf)\n",
        "\n",
        "Obsérvese en la fig. 6 del paper la estructura del autoencoder utilizado, en la cual el _bottleneck_ es de tamaño 4x4x8 = 128 sin aplanar"
      ]
    },
    {
      "cell_type": "markdown",
      "id": "ac9198d1-8fdb-4a04-8b94-3c18eb7b73f5",
      "metadata": {
        "id": "ac9198d1-8fdb-4a04-8b94-3c18eb7b73f5"
      },
      "source": [
        "## Tareas a realizar en la práctica\n",
        "\n"
      ]
    },
    {
      "cell_type": "markdown",
      "source": [
        "### **1. Estudiar las características del dataset y plantear un marco experimental adecuado: entrenar con las imágenes del conjunto de training de individuos sanos y usar un conjunto de validación y otro de test balanceados (mismo número de imágenes de individuos sanos y con neumonía)**"
      ],
      "metadata": {
        "id": "CyR2Vuchi9Fv"
      },
      "id": "CyR2Vuchi9Fv"
    },
    {
      "cell_type": "markdown",
      "source": [
        "🎯 Objetivo: Entrenar un modelo con datos solo de personas sanas (label = 0), para que luego podamos ver si detecta las imágenes \"raras\", es decir, con neumonía (label = 1).\n",
        "\n",
        "Esto se parece a lo que se llama un sistema de detección de anomalías, o más formalmente: one-class classification.\n",
        "\n",
        "✅ Entrenamiento:\n",
        "Solo usaremos las imágenes de entrenamiento con label = 0.\n",
        "\n",
        "🔄 Validación y test:\n",
        "Usaremos conjuntos balanceados: igual número de imágenes sanas y con neumonía, para ver cómo el modelo se comporta con ambos tipos."
      ],
      "metadata": {
        "id": "3BSfPjbYP8LT"
      },
      "id": "3BSfPjbYP8LT"
    },
    {
      "cell_type": "markdown",
      "source": [
        "#### **Características** del dataset `PneumoniaMNIST`"
      ],
      "metadata": {
        "id": "k2SKgRdsnoQi"
      },
      "id": "k2SKgRdsnoQi"
    },
    {
      "cell_type": "code",
      "source": [
        "# Función para mostrar info\n",
        "def show_info(nombre, dataset):\n",
        "    labels = [label.item() for _, label in dataset]\n",
        "    class_counts = Counter(labels)\n",
        "    print(f\"\\n--- {nombre.upper()} ---\")\n",
        "    for k, v in class_counts.items():\n",
        "        print(f\"Clase {k}: {v} imágenes\")\n",
        "    sample_img, _ = dataset[0]\n",
        "    print(f\"Tamaño de imagen: {sample_img.shape}\")"
      ],
      "metadata": {
        "id": "gZGROmTpjKnv"
      },
      "id": "gZGROmTpjKnv",
      "execution_count": null,
      "outputs": []
    },
    {
      "cell_type": "code",
      "source": [
        "# Inicializa datasets\n",
        "train_dataset = PneumoniaMNIST(split='train', transform=transform, download=True)\n",
        "val_dataset   = PneumoniaMNIST(split='val', transform=transform, download=True)\n",
        "test_dataset  = PneumoniaMNIST(split='test', transform=transform, download=True)\n",
        "\n",
        "# Mostrar info para cada split\n",
        "show_info(\"Train\", train_dataset)\n",
        "show_info(\"Validation\", val_dataset)\n",
        "show_info(\"Test\", test_dataset)"
      ],
      "metadata": {
        "colab": {
          "base_uri": "https://localhost:8080/"
        },
        "id": "R3cVK28VLfLo",
        "outputId": "7095a7dc-10f5-4d7a-ae47-d50460c1e720"
      },
      "id": "R3cVK28VLfLo",
      "execution_count": null,
      "outputs": [
        {
          "output_type": "stream",
          "name": "stdout",
          "text": [
            "Using downloaded and verified file: /root/.medmnist/pneumoniamnist.npz\n",
            "Using downloaded and verified file: /root/.medmnist/pneumoniamnist.npz\n",
            "Using downloaded and verified file: /root/.medmnist/pneumoniamnist.npz\n",
            "\n",
            "--- TRAIN ---\n",
            "Clase 1: 3494 imágenes\n",
            "Clase 0: 1214 imágenes\n",
            "Tamaño de imagen: torch.Size([1, 28, 28])\n",
            "\n",
            "--- VALIDATION ---\n",
            "Clase 1: 389 imágenes\n",
            "Clase 0: 135 imágenes\n",
            "Tamaño de imagen: torch.Size([1, 28, 28])\n",
            "\n",
            "--- TEST ---\n",
            "Clase 1: 390 imágenes\n",
            "Clase 0: 234 imágenes\n",
            "Tamaño de imagen: torch.Size([1, 28, 28])\n"
          ]
        }
      ]
    },
    {
      "cell_type": "markdown",
      "source": [
        "Este dataset contiene imágenes médicas (radiografías torácicas) preprocesadas y etiquetadas como:\n",
        "\n",
        "* 0: Sano\n",
        "\n",
        "* 1: Con neumonía\n",
        "\n",
        "Son imágenes en escala de grises (1 canal) y tamaño fijo: 28x28 píxeles.\n"
      ],
      "metadata": {
        "id": "59VyF99pn3a7"
      },
      "id": "59VyF99pn3a7"
    },
    {
      "cell_type": "markdown",
      "source": [
        "#### Definir **autoencoder simple**"
      ],
      "metadata": {
        "id": "9sQv0n5eJ5rK"
      },
      "id": "9sQv0n5eJ5rK"
    },
    {
      "cell_type": "code",
      "source": [
        "class Autoencoder(nn.Module):\n",
        "    def __init__(self):\n",
        "        super().__init__()\n",
        "\n",
        "        # Encoder\n",
        "        self.encoder = nn.Sequential(\n",
        "            nn.Conv2d(1, 32, kernel_size=3, padding=1),  # Aumentar los filtros\n",
        "            nn.ReLU(),\n",
        "            nn.MaxPool2d(2, stride=2),\n",
        "\n",
        "            nn.Conv2d(32, 16, kernel_size=3, padding=1),  # Aumentar la profundidad\n",
        "            nn.ReLU(),\n",
        "            nn.MaxPool2d(2, stride=2),\n",
        "\n",
        "            nn.Conv2d(16, 8, kernel_size=3, padding=1),\n",
        "            nn.ReLU(),\n",
        "            nn.MaxPool2d(2, stride=1)\n",
        "        )\n",
        "\n",
        "        # Decoder\n",
        "        self.decoder = nn.Sequential(\n",
        "            nn.ConvTranspose2d(8, 8, kernel_size=2, stride=2),     # -> [B, 8, 12, 12]\n",
        "            nn.ReLU(),\n",
        "            nn.ConvTranspose2d(8, 8, kernel_size=2, stride=2),     # -> [B, 8, 24, 24]\n",
        "            nn.ReLU(),\n",
        "            nn.ConvTranspose2d(8, 16, kernel_size=2, stride=2),    # -> [B, 16, 48, 48]\n",
        "            nn.ReLU(),\n",
        "            nn.Conv2d(16, 1, kernel_size=5, padding=2),            # -> [B, 1, 48, 48]\n",
        "            nn.Upsample(size=(28, 28), mode='bilinear'),          # Asegura tamaño de salida\n",
        "            nn.Sigmoid()\n",
        "        )\n",
        "\n",
        "    def forward(self, x):\n",
        "        encoded = self.encoder(x)\n",
        "        decoded = self.decoder(encoded)\n",
        "        return decoded"
      ],
      "metadata": {
        "id": "3itcfgLLH9Xt"
      },
      "id": "3itcfgLLH9Xt",
      "execution_count": null,
      "outputs": []
    },
    {
      "cell_type": "markdown",
      "source": [
        "#### **Entrenar** autoencoder"
      ],
      "metadata": {
        "id": "Njh5j0ZqL0b-"
      },
      "id": "Njh5j0ZqL0b-"
    },
    {
      "cell_type": "code",
      "source": [
        "### ENTRENAMIENTO SOLO CON IMÁGENES SANAS\n",
        "# Obtener imágenes sanas (label == 0)\n",
        "healthy_images = [img for img, label in train_dataset if label.item() == 0]\n",
        "healthy_tensor = torch.stack(healthy_images)\n",
        "\n",
        "# Dataset y dataloader\n",
        "healthy_dataset = TensorDataset(healthy_tensor)\n",
        "train_loader = DataLoader(healthy_dataset, batch_size=64, shuffle=True)\n"
      ],
      "metadata": {
        "id": "rvcl-wuMMAZE"
      },
      "id": "rvcl-wuMMAZE",
      "execution_count": null,
      "outputs": []
    },
    {
      "cell_type": "markdown",
      "source": [
        "#### Creamos **conjuntos balanceados** de val y test"
      ],
      "metadata": {
        "id": "6KnCwao_oljO"
      },
      "id": "6KnCwao_oljO"
    },
    {
      "cell_type": "code",
      "source": [
        "# Función que produce datasets balanceados\n",
        "def get_balanced_subset(dataset):\n",
        "    labels = [label.item() for _, label in dataset]\n",
        "    class_counts = Counter(labels)\n",
        "    current_min = -1\n",
        "    for k, v in class_counts.items():\n",
        "        if current_min == -1:\n",
        "            current_min = v\n",
        "        else:\n",
        "            current_min = min(current_min, v)\n",
        "\n",
        "    n = current_min\n",
        "\n",
        "    healthy = [ (img, label) for img, label in dataset if label.item() == 0 ][:n]\n",
        "    pneumonia = [ (img, label) for img, label in dataset if label.item() == 1 ][:n]\n",
        "\n",
        "    return healthy + pneumonia, n\n",
        "\n",
        "balanced_val, n_val = get_balanced_subset(val_dataset)\n",
        "balanced_test, n_test = get_balanced_subset(test_dataset)\n",
        "\n",
        "print(f\"Subconjunto validación: {len(balanced_val)} imágenes ({n_val} sanos + {n_val} con neumonía)\")\n",
        "print(f\"Subconjunto test: {len(balanced_test)} imágenes ({n_test} sanos + {n_test} con neumonía)\")\n"
      ],
      "metadata": {
        "colab": {
          "base_uri": "https://localhost:8080/"
        },
        "id": "2GeT29seorLv",
        "outputId": "10a673df-1832-4feb-fc1c-f9a687767fef"
      },
      "id": "2GeT29seorLv",
      "execution_count": null,
      "outputs": [
        {
          "output_type": "stream",
          "name": "stdout",
          "text": [
            "Subconjunto validación: 270 imágenes (135 sanos + 135 con neumonía)\n",
            "Subconjunto test: 468 imágenes (234 sanos + 234 con neumonía)\n"
          ]
        }
      ]
    },
    {
      "cell_type": "markdown",
      "source": [
        "#### Transformar a **`TensorDataset`** (evita errores)"
      ],
      "metadata": {
        "id": "_GfjZnttUzLV"
      },
      "id": "_GfjZnttUzLV"
    },
    {
      "cell_type": "code",
      "source": [
        "# Función para pasar de lista de tuplas a TensorDataset\n",
        "def list_to_tensor_dataset(data_list):\n",
        "    imgs = torch.stack([img for img, _ in data_list])\n",
        "    labels = torch.tensor([label for _, label in data_list])\n",
        "    return TensorDataset(imgs, labels)\n"
      ],
      "metadata": {
        "id": "5zHcmj2BU5DP"
      },
      "id": "5zHcmj2BU5DP",
      "execution_count": null,
      "outputs": []
    },
    {
      "cell_type": "markdown",
      "source": [
        "#### **Preparación** autoencoder"
      ],
      "metadata": {
        "id": "mq9LzC4CQGyF"
      },
      "id": "mq9LzC4CQGyF"
    },
    {
      "cell_type": "code",
      "source": [
        "## DATOS\n",
        "# Dataset de entrenamiento con solo imágenes sanas\n",
        "healthy_train_indices = [i for i, (_, label) in enumerate(train_dataset) if label.item() == 0]\n",
        "healthy_train_subset = Subset(train_dataset, healthy_train_indices)\n",
        "train_loader = DataLoader(healthy_train_subset, batch_size=64, shuffle=True)\n",
        "\n",
        "# Arreglar val y test\n",
        "val_dataset_bal = list_to_tensor_dataset(balanced_val)\n",
        "test_dataset_bal = list_to_tensor_dataset(balanced_test)\n",
        "\n",
        "# Loaders correctos\n",
        "val_loader = DataLoader(val_dataset_bal, batch_size=64, shuffle=False)\n",
        "test_loader = DataLoader(test_dataset_bal, batch_size=64, shuffle=False)\n",
        "\n",
        "\n",
        "## MODELO\n",
        "# Autoencoder\n",
        "autoencoder = Autoencoder()\n",
        "device = torch.device('cuda' if torch.cuda.is_available() else 'cpu')\n",
        "autoencoder.to(device)\n",
        "\n",
        "# Función de pérdida y optimizador\n",
        "criterion = nn.MSELoss()\n",
        "optimizer = optim.Adam(autoencoder.parameters(), lr=1e-3)"
      ],
      "metadata": {
        "id": "uRCUum-gQLyJ",
        "colab": {
          "base_uri": "https://localhost:8080/"
        },
        "outputId": "f41d988f-9123-4c45-a1a5-770861417a4a"
      },
      "id": "uRCUum-gQLyJ",
      "execution_count": null,
      "outputs": [
        {
          "output_type": "stream",
          "name": "stderr",
          "text": [
            "<ipython-input-13-48cbd20e1bb7>:4: UserWarning: Creating a tensor from a list of numpy.ndarrays is extremely slow. Please consider converting the list to a single numpy.ndarray with numpy.array() before converting to a tensor. (Triggered internally at ../torch/csrc/utils/tensor_new.cpp:278.)\n",
            "  labels = torch.tensor([label for _, label in data_list])\n"
          ]
        }
      ]
    },
    {
      "cell_type": "markdown",
      "source": [
        "#### **Entrenamiento** autoencoder"
      ],
      "metadata": {
        "id": "I7OPaQdGQMDT"
      },
      "id": "I7OPaQdGQMDT"
    },
    {
      "cell_type": "code",
      "source": [
        "### TRAIN\n",
        "num_epochs = 200\n",
        "\n",
        "for epoch in range(num_epochs):\n",
        "    # ENTRENAMIENTO\n",
        "    autoencoder.train()\n",
        "    train_loss = 0.0\n",
        "    for imgs, _ in train_loader:\n",
        "        imgs = imgs.to(device)\n",
        "\n",
        "        # Forward\n",
        "        outputs = autoencoder(imgs)\n",
        "        loss = criterion(outputs, imgs)\n",
        "\n",
        "        # Backward\n",
        "        optimizer.zero_grad()\n",
        "        loss.backward()\n",
        "        optimizer.step()\n",
        "\n",
        "        train_loss += loss.item() * imgs.size(0)\n",
        "\n",
        "    train_loss /= len(train_loader.dataset)\n",
        "\n",
        "    # VALIDACIÓN\n",
        "    autoencoder.eval()\n",
        "    val_loss = 0.0\n",
        "    with torch.no_grad():\n",
        "        for imgs, _ in val_loader:\n",
        "            imgs = imgs.to(device)\n",
        "            outputs = autoencoder(imgs)\n",
        "            loss = criterion(outputs, imgs)\n",
        "            val_loss += loss.item() * imgs.size(0)\n",
        "\n",
        "    val_loss /= len(val_loader.dataset)\n",
        "    print(f\"Epoch [{epoch+1}/{num_epochs}], Train Loss: {train_loss:.4f}, Val Loss: {val_loss:.4f}\")\n"
      ],
      "metadata": {
        "colab": {
          "base_uri": "https://localhost:8080/"
        },
        "id": "DxdQ_4p-QN65",
        "outputId": "1335ac42-2ebb-46f4-f6d3-c32cb64de4c7"
      },
      "id": "DxdQ_4p-QN65",
      "execution_count": null,
      "outputs": [
        {
          "output_type": "stream",
          "name": "stdout",
          "text": [
            "Epoch [1/200], Train Loss: 0.0340, Val Loss: 0.0299\n",
            "Epoch [2/200], Train Loss: 0.0335, Val Loss: 0.0300\n",
            "Epoch [3/200], Train Loss: 0.0324, Val Loss: 0.0257\n",
            "Epoch [4/200], Train Loss: 0.0241, Val Loss: 0.0154\n",
            "Epoch [5/200], Train Loss: 0.0175, Val Loss: 0.0129\n",
            "Epoch [6/200], Train Loss: 0.0157, Val Loss: 0.0117\n",
            "Epoch [7/200], Train Loss: 0.0145, Val Loss: 0.0109\n",
            "Epoch [8/200], Train Loss: 0.0134, Val Loss: 0.0100\n",
            "Epoch [9/200], Train Loss: 0.0125, Val Loss: 0.0097\n",
            "Epoch [10/200], Train Loss: 0.0117, Val Loss: 0.0091\n",
            "Epoch [11/200], Train Loss: 0.0111, Val Loss: 0.0087\n",
            "Epoch [12/200], Train Loss: 0.0106, Val Loss: 0.0084\n",
            "Epoch [13/200], Train Loss: 0.0102, Val Loss: 0.0082\n",
            "Epoch [14/200], Train Loss: 0.0096, Val Loss: 0.0078\n",
            "Epoch [15/200], Train Loss: 0.0093, Val Loss: 0.0075\n",
            "Epoch [16/200], Train Loss: 0.0090, Val Loss: 0.0073\n",
            "Epoch [17/200], Train Loss: 0.0087, Val Loss: 0.0074\n",
            "Epoch [18/200], Train Loss: 0.0085, Val Loss: 0.0070\n",
            "Epoch [19/200], Train Loss: 0.0082, Val Loss: 0.0068\n",
            "Epoch [20/200], Train Loss: 0.0080, Val Loss: 0.0067\n",
            "Epoch [21/200], Train Loss: 0.0078, Val Loss: 0.0065\n",
            "Epoch [22/200], Train Loss: 0.0076, Val Loss: 0.0063\n",
            "Epoch [23/200], Train Loss: 0.0075, Val Loss: 0.0063\n",
            "Epoch [24/200], Train Loss: 0.0073, Val Loss: 0.0061\n",
            "Epoch [25/200], Train Loss: 0.0072, Val Loss: 0.0060\n",
            "Epoch [26/200], Train Loss: 0.0071, Val Loss: 0.0059\n",
            "Epoch [27/200], Train Loss: 0.0069, Val Loss: 0.0059\n",
            "Epoch [28/200], Train Loss: 0.0068, Val Loss: 0.0057\n",
            "Epoch [29/200], Train Loss: 0.0067, Val Loss: 0.0057\n",
            "Epoch [30/200], Train Loss: 0.0066, Val Loss: 0.0055\n",
            "Epoch [31/200], Train Loss: 0.0065, Val Loss: 0.0055\n",
            "Epoch [32/200], Train Loss: 0.0064, Val Loss: 0.0055\n",
            "Epoch [33/200], Train Loss: 0.0064, Val Loss: 0.0053\n",
            "Epoch [34/200], Train Loss: 0.0062, Val Loss: 0.0052\n",
            "Epoch [35/200], Train Loss: 0.0061, Val Loss: 0.0052\n",
            "Epoch [36/200], Train Loss: 0.0060, Val Loss: 0.0052\n",
            "Epoch [37/200], Train Loss: 0.0059, Val Loss: 0.0052\n",
            "Epoch [38/200], Train Loss: 0.0059, Val Loss: 0.0050\n",
            "Epoch [39/200], Train Loss: 0.0058, Val Loss: 0.0052\n",
            "Epoch [40/200], Train Loss: 0.0057, Val Loss: 0.0049\n",
            "Epoch [41/200], Train Loss: 0.0057, Val Loss: 0.0049\n",
            "Epoch [42/200], Train Loss: 0.0056, Val Loss: 0.0048\n",
            "Epoch [43/200], Train Loss: 0.0055, Val Loss: 0.0048\n",
            "Epoch [44/200], Train Loss: 0.0055, Val Loss: 0.0048\n",
            "Epoch [45/200], Train Loss: 0.0054, Val Loss: 0.0048\n",
            "Epoch [46/200], Train Loss: 0.0054, Val Loss: 0.0047\n",
            "Epoch [47/200], Train Loss: 0.0054, Val Loss: 0.0047\n",
            "Epoch [48/200], Train Loss: 0.0053, Val Loss: 0.0047\n",
            "Epoch [49/200], Train Loss: 0.0053, Val Loss: 0.0048\n",
            "Epoch [50/200], Train Loss: 0.0052, Val Loss: 0.0046\n",
            "Epoch [51/200], Train Loss: 0.0052, Val Loss: 0.0046\n",
            "Epoch [52/200], Train Loss: 0.0052, Val Loss: 0.0045\n",
            "Epoch [53/200], Train Loss: 0.0052, Val Loss: 0.0047\n",
            "Epoch [54/200], Train Loss: 0.0052, Val Loss: 0.0046\n",
            "Epoch [55/200], Train Loss: 0.0050, Val Loss: 0.0045\n",
            "Epoch [56/200], Train Loss: 0.0050, Val Loss: 0.0044\n",
            "Epoch [57/200], Train Loss: 0.0050, Val Loss: 0.0046\n",
            "Epoch [58/200], Train Loss: 0.0050, Val Loss: 0.0044\n",
            "Epoch [59/200], Train Loss: 0.0049, Val Loss: 0.0044\n",
            "Epoch [60/200], Train Loss: 0.0049, Val Loss: 0.0044\n",
            "Epoch [61/200], Train Loss: 0.0049, Val Loss: 0.0043\n",
            "Epoch [62/200], Train Loss: 0.0048, Val Loss: 0.0043\n",
            "Epoch [63/200], Train Loss: 0.0048, Val Loss: 0.0043\n",
            "Epoch [64/200], Train Loss: 0.0048, Val Loss: 0.0043\n",
            "Epoch [65/200], Train Loss: 0.0048, Val Loss: 0.0043\n",
            "Epoch [66/200], Train Loss: 0.0048, Val Loss: 0.0042\n",
            "Epoch [67/200], Train Loss: 0.0047, Val Loss: 0.0042\n",
            "Epoch [68/200], Train Loss: 0.0047, Val Loss: 0.0042\n",
            "Epoch [69/200], Train Loss: 0.0047, Val Loss: 0.0043\n",
            "Epoch [70/200], Train Loss: 0.0047, Val Loss: 0.0042\n",
            "Epoch [71/200], Train Loss: 0.0047, Val Loss: 0.0041\n",
            "Epoch [72/200], Train Loss: 0.0047, Val Loss: 0.0044\n",
            "Epoch [73/200], Train Loss: 0.0048, Val Loss: 0.0042\n",
            "Epoch [74/200], Train Loss: 0.0046, Val Loss: 0.0041\n",
            "Epoch [75/200], Train Loss: 0.0046, Val Loss: 0.0041\n",
            "Epoch [76/200], Train Loss: 0.0046, Val Loss: 0.0044\n",
            "Epoch [77/200], Train Loss: 0.0047, Val Loss: 0.0041\n",
            "Epoch [78/200], Train Loss: 0.0046, Val Loss: 0.0041\n",
            "Epoch [79/200], Train Loss: 0.0046, Val Loss: 0.0041\n",
            "Epoch [80/200], Train Loss: 0.0046, Val Loss: 0.0041\n",
            "Epoch [81/200], Train Loss: 0.0046, Val Loss: 0.0040\n",
            "Epoch [82/200], Train Loss: 0.0045, Val Loss: 0.0040\n",
            "Epoch [83/200], Train Loss: 0.0045, Val Loss: 0.0040\n",
            "Epoch [84/200], Train Loss: 0.0045, Val Loss: 0.0040\n",
            "Epoch [85/200], Train Loss: 0.0045, Val Loss: 0.0040\n",
            "Epoch [86/200], Train Loss: 0.0045, Val Loss: 0.0040\n",
            "Epoch [87/200], Train Loss: 0.0044, Val Loss: 0.0039\n",
            "Epoch [88/200], Train Loss: 0.0044, Val Loss: 0.0039\n",
            "Epoch [89/200], Train Loss: 0.0045, Val Loss: 0.0039\n",
            "Epoch [90/200], Train Loss: 0.0044, Val Loss: 0.0039\n",
            "Epoch [91/200], Train Loss: 0.0044, Val Loss: 0.0039\n",
            "Epoch [92/200], Train Loss: 0.0044, Val Loss: 0.0039\n",
            "Epoch [93/200], Train Loss: 0.0045, Val Loss: 0.0040\n",
            "Epoch [94/200], Train Loss: 0.0044, Val Loss: 0.0039\n",
            "Epoch [95/200], Train Loss: 0.0044, Val Loss: 0.0039\n",
            "Epoch [96/200], Train Loss: 0.0043, Val Loss: 0.0039\n",
            "Epoch [97/200], Train Loss: 0.0043, Val Loss: 0.0039\n",
            "Epoch [98/200], Train Loss: 0.0044, Val Loss: 0.0039\n",
            "Epoch [99/200], Train Loss: 0.0043, Val Loss: 0.0038\n",
            "Epoch [100/200], Train Loss: 0.0043, Val Loss: 0.0038\n",
            "Epoch [101/200], Train Loss: 0.0043, Val Loss: 0.0039\n",
            "Epoch [102/200], Train Loss: 0.0043, Val Loss: 0.0038\n",
            "Epoch [103/200], Train Loss: 0.0043, Val Loss: 0.0038\n",
            "Epoch [104/200], Train Loss: 0.0043, Val Loss: 0.0038\n",
            "Epoch [105/200], Train Loss: 0.0044, Val Loss: 0.0038\n",
            "Epoch [106/200], Train Loss: 0.0043, Val Loss: 0.0038\n",
            "Epoch [107/200], Train Loss: 0.0043, Val Loss: 0.0039\n",
            "Epoch [108/200], Train Loss: 0.0043, Val Loss: 0.0038\n",
            "Epoch [109/200], Train Loss: 0.0043, Val Loss: 0.0038\n",
            "Epoch [110/200], Train Loss: 0.0042, Val Loss: 0.0038\n",
            "Epoch [111/200], Train Loss: 0.0042, Val Loss: 0.0038\n",
            "Epoch [112/200], Train Loss: 0.0043, Val Loss: 0.0037\n",
            "Epoch [113/200], Train Loss: 0.0042, Val Loss: 0.0037\n",
            "Epoch [114/200], Train Loss: 0.0043, Val Loss: 0.0037\n",
            "Epoch [115/200], Train Loss: 0.0042, Val Loss: 0.0037\n",
            "Epoch [116/200], Train Loss: 0.0042, Val Loss: 0.0037\n",
            "Epoch [117/200], Train Loss: 0.0042, Val Loss: 0.0038\n",
            "Epoch [118/200], Train Loss: 0.0042, Val Loss: 0.0037\n",
            "Epoch [119/200], Train Loss: 0.0042, Val Loss: 0.0037\n",
            "Epoch [120/200], Train Loss: 0.0043, Val Loss: 0.0037\n",
            "Epoch [121/200], Train Loss: 0.0042, Val Loss: 0.0037\n",
            "Epoch [122/200], Train Loss: 0.0041, Val Loss: 0.0037\n",
            "Epoch [123/200], Train Loss: 0.0041, Val Loss: 0.0038\n",
            "Epoch [124/200], Train Loss: 0.0041, Val Loss: 0.0037\n",
            "Epoch [125/200], Train Loss: 0.0041, Val Loss: 0.0036\n",
            "Epoch [126/200], Train Loss: 0.0042, Val Loss: 0.0038\n",
            "Epoch [127/200], Train Loss: 0.0041, Val Loss: 0.0036\n",
            "Epoch [128/200], Train Loss: 0.0041, Val Loss: 0.0036\n",
            "Epoch [129/200], Train Loss: 0.0041, Val Loss: 0.0036\n",
            "Epoch [130/200], Train Loss: 0.0041, Val Loss: 0.0036\n",
            "Epoch [131/200], Train Loss: 0.0041, Val Loss: 0.0036\n",
            "Epoch [132/200], Train Loss: 0.0041, Val Loss: 0.0036\n",
            "Epoch [133/200], Train Loss: 0.0041, Val Loss: 0.0036\n",
            "Epoch [134/200], Train Loss: 0.0041, Val Loss: 0.0036\n",
            "Epoch [135/200], Train Loss: 0.0040, Val Loss: 0.0036\n",
            "Epoch [136/200], Train Loss: 0.0040, Val Loss: 0.0036\n",
            "Epoch [137/200], Train Loss: 0.0041, Val Loss: 0.0036\n",
            "Epoch [138/200], Train Loss: 0.0041, Val Loss: 0.0035\n",
            "Epoch [139/200], Train Loss: 0.0042, Val Loss: 0.0035\n",
            "Epoch [140/200], Train Loss: 0.0041, Val Loss: 0.0036\n",
            "Epoch [141/200], Train Loss: 0.0041, Val Loss: 0.0036\n",
            "Epoch [142/200], Train Loss: 0.0040, Val Loss: 0.0035\n",
            "Epoch [143/200], Train Loss: 0.0040, Val Loss: 0.0035\n",
            "Epoch [144/200], Train Loss: 0.0040, Val Loss: 0.0035\n",
            "Epoch [145/200], Train Loss: 0.0040, Val Loss: 0.0035\n",
            "Epoch [146/200], Train Loss: 0.0040, Val Loss: 0.0035\n",
            "Epoch [147/200], Train Loss: 0.0040, Val Loss: 0.0035\n",
            "Epoch [148/200], Train Loss: 0.0040, Val Loss: 0.0036\n",
            "Epoch [149/200], Train Loss: 0.0040, Val Loss: 0.0036\n",
            "Epoch [150/200], Train Loss: 0.0040, Val Loss: 0.0035\n",
            "Epoch [151/200], Train Loss: 0.0040, Val Loss: 0.0035\n",
            "Epoch [152/200], Train Loss: 0.0040, Val Loss: 0.0035\n",
            "Epoch [153/200], Train Loss: 0.0040, Val Loss: 0.0036\n",
            "Epoch [154/200], Train Loss: 0.0040, Val Loss: 0.0035\n",
            "Epoch [155/200], Train Loss: 0.0039, Val Loss: 0.0034\n",
            "Epoch [156/200], Train Loss: 0.0039, Val Loss: 0.0034\n",
            "Epoch [157/200], Train Loss: 0.0039, Val Loss: 0.0036\n",
            "Epoch [158/200], Train Loss: 0.0040, Val Loss: 0.0034\n",
            "Epoch [159/200], Train Loss: 0.0039, Val Loss: 0.0035\n",
            "Epoch [160/200], Train Loss: 0.0039, Val Loss: 0.0035\n",
            "Epoch [161/200], Train Loss: 0.0039, Val Loss: 0.0034\n",
            "Epoch [162/200], Train Loss: 0.0039, Val Loss: 0.0034\n",
            "Epoch [163/200], Train Loss: 0.0040, Val Loss: 0.0036\n",
            "Epoch [164/200], Train Loss: 0.0039, Val Loss: 0.0035\n",
            "Epoch [165/200], Train Loss: 0.0039, Val Loss: 0.0035\n",
            "Epoch [166/200], Train Loss: 0.0039, Val Loss: 0.0035\n",
            "Epoch [167/200], Train Loss: 0.0039, Val Loss: 0.0034\n",
            "Epoch [168/200], Train Loss: 0.0039, Val Loss: 0.0034\n",
            "Epoch [169/200], Train Loss: 0.0038, Val Loss: 0.0034\n",
            "Epoch [170/200], Train Loss: 0.0038, Val Loss: 0.0034\n",
            "Epoch [171/200], Train Loss: 0.0038, Val Loss: 0.0033\n",
            "Epoch [172/200], Train Loss: 0.0038, Val Loss: 0.0034\n",
            "Epoch [173/200], Train Loss: 0.0039, Val Loss: 0.0033\n",
            "Epoch [174/200], Train Loss: 0.0038, Val Loss: 0.0033\n",
            "Epoch [175/200], Train Loss: 0.0038, Val Loss: 0.0033\n",
            "Epoch [176/200], Train Loss: 0.0038, Val Loss: 0.0034\n",
            "Epoch [177/200], Train Loss: 0.0038, Val Loss: 0.0034\n",
            "Epoch [178/200], Train Loss: 0.0038, Val Loss: 0.0033\n",
            "Epoch [179/200], Train Loss: 0.0038, Val Loss: 0.0034\n",
            "Epoch [180/200], Train Loss: 0.0038, Val Loss: 0.0033\n",
            "Epoch [181/200], Train Loss: 0.0038, Val Loss: 0.0033\n",
            "Epoch [182/200], Train Loss: 0.0038, Val Loss: 0.0033\n",
            "Epoch [183/200], Train Loss: 0.0037, Val Loss: 0.0033\n",
            "Epoch [184/200], Train Loss: 0.0038, Val Loss: 0.0033\n",
            "Epoch [185/200], Train Loss: 0.0038, Val Loss: 0.0033\n",
            "Epoch [186/200], Train Loss: 0.0037, Val Loss: 0.0033\n",
            "Epoch [187/200], Train Loss: 0.0038, Val Loss: 0.0033\n",
            "Epoch [188/200], Train Loss: 0.0038, Val Loss: 0.0033\n",
            "Epoch [189/200], Train Loss: 0.0037, Val Loss: 0.0033\n",
            "Epoch [190/200], Train Loss: 0.0037, Val Loss: 0.0033\n",
            "Epoch [191/200], Train Loss: 0.0037, Val Loss: 0.0033\n",
            "Epoch [192/200], Train Loss: 0.0037, Val Loss: 0.0032\n",
            "Epoch [193/200], Train Loss: 0.0037, Val Loss: 0.0032\n",
            "Epoch [194/200], Train Loss: 0.0038, Val Loss: 0.0035\n",
            "Epoch [195/200], Train Loss: 0.0037, Val Loss: 0.0032\n",
            "Epoch [196/200], Train Loss: 0.0037, Val Loss: 0.0034\n",
            "Epoch [197/200], Train Loss: 0.0038, Val Loss: 0.0032\n",
            "Epoch [198/200], Train Loss: 0.0037, Val Loss: 0.0033\n",
            "Epoch [199/200], Train Loss: 0.0037, Val Loss: 0.0032\n",
            "Epoch [200/200], Train Loss: 0.0037, Val Loss: 0.0032\n"
          ]
        }
      ]
    },
    {
      "cell_type": "markdown",
      "source": [
        "### **2. Sobre el conjunto de validación, hacer un estudio de la distribución de los errores (media y desviación de los errores, histograma o nube de puntos como en la fig. 5 del paper) y obtener el umbral que minimiza el error de reconocimiento**"
      ],
      "metadata": {
        "id": "eAXNDADso8su"
      },
      "id": "eAXNDADso8su"
    },
    {
      "cell_type": "markdown",
      "source": [
        "#### Calcular **errores por muestra**"
      ],
      "metadata": {
        "id": "rbWtbs4OVsXX"
      },
      "id": "rbWtbs4OVsXX"
    },
    {
      "cell_type": "code",
      "source": [
        "autoencoder.eval()\n",
        "errors = []\n",
        "labels = []\n",
        "\n",
        "with torch.no_grad():\n",
        "    for imgs, lbls in val_loader:\n",
        "        imgs = imgs.to(device)\n",
        "        outputs = autoencoder(imgs)\n",
        "        loss = F.mse_loss(outputs, imgs, reduction='none')  # [B, 1, 28, 28]\n",
        "        loss = loss.view(loss.size(0), -1).mean(dim=1)      # [B]\n",
        "        errors.extend(loss.cpu().numpy())\n",
        "        labels.extend(lbls.numpy())\n"
      ],
      "metadata": {
        "id": "4tn7xg3pS1Pl"
      },
      "id": "4tn7xg3pS1Pl",
      "execution_count": null,
      "outputs": []
    },
    {
      "cell_type": "markdown",
      "source": [
        "Calcular **estadísticas**"
      ],
      "metadata": {
        "id": "wMWCSK1rVxyJ"
      },
      "id": "wMWCSK1rVxyJ"
    },
    {
      "cell_type": "code",
      "source": [
        "errors = np.array(errors).flatten()\n",
        "labels = np.array(labels).flatten()\n",
        "\n",
        "error_normal = errors[labels == 0]\n",
        "error_anomaly = errors[labels == 1]\n",
        "\n",
        "mean_normal = np.mean(error_normal)\n",
        "std_normal = np.std(error_normal)\n",
        "\n",
        "print(f\"Media (normales): {mean_normal:.4f}\")\n",
        "print(f\"Desviación estándar (normales): {std_normal:.4f}\")\n",
        "print(f\"Media (anomalías): {np.mean(error_anomaly):.4f}\")\n",
        "print(f\"Desviación estándar (anomalías): {np.std(error_anomaly):.4f}\")\n"
      ],
      "metadata": {
        "colab": {
          "base_uri": "https://localhost:8080/"
        },
        "id": "KqaIwiX1V1Sx",
        "outputId": "2adf9df9-5a4e-4b17-88ab-ab11cb880d4d"
      },
      "id": "KqaIwiX1V1Sx",
      "execution_count": null,
      "outputs": [
        {
          "output_type": "stream",
          "name": "stdout",
          "text": [
            "Media (normales): 0.0036\n",
            "Desviación estándar (normales): 0.0014\n",
            "Media (anomalías): 0.0028\n",
            "Desviación estándar (anomalías): 0.0011\n"
          ]
        }
      ]
    },
    {
      "cell_type": "markdown",
      "source": [
        "#### Graficar **figura** (tipo paper)"
      ],
      "metadata": {
        "id": "Ob6Sk7rnV33H"
      },
      "id": "Ob6Sk7rnV33H"
    },
    {
      "cell_type": "code",
      "source": [
        "plt.figure(figsize=(10,5))\n",
        "plt.scatter(np.arange(len(error_normal)),  error_normal,  label='Normal', color = 'Blue', marker='o', alpha=0.6)\n",
        "plt.scatter(np.arange(len(error_anomaly)), error_anomaly, label='Anomaly', color = 'Red', marker='o', alpha=0.6)\n",
        "plt.xlabel(\"Índice de muestra en validación\")\n",
        "plt.ylabel(\"Error de reconstrucción\")\n",
        "plt.title(\"Distribución de errores de reconstrucción (Validación)\")\n",
        "plt.legend()\n",
        "plt.show()"
      ],
      "metadata": {
        "colab": {
          "base_uri": "https://localhost:8080/",
          "height": 487
        },
        "id": "7rBjgahQUKh4",
        "outputId": "bdcc5dc1-7609-4e24-bc76-fe590ee169cc"
      },
      "id": "7rBjgahQUKh4",
      "execution_count": null,
      "outputs": [
        {
          "output_type": "display_data",
          "data": {
            "text/plain": [
              "<Figure size 1000x500 with 1 Axes>"
            ],
            "image/png": "[encoded data removed]"
          },
          "metadata": {}
        }
      ]
    },
    {
      "cell_type": "markdown",
      "source": [
        "#### Mejor **umbral** (maximizando accuracy)"
      ],
      "metadata": {
        "id": "83ITlmu5V7Qp"
      },
      "id": "83ITlmu5V7Qp"
    },
    {
      "cell_type": "code",
      "source": [
        "thresholds = np.linspace(errors.min(), errors.max(), 100)\n",
        "best_acc = 0\n",
        "best_th = 0\n",
        "\n",
        "for th in thresholds:\n",
        "    preds = (errors > th).astype(int)  # 1 = anomalía\n",
        "    acc = accuracy_score(labels, preds)\n",
        "    if acc > best_acc:\n",
        "        best_acc = acc\n",
        "        best_th = th\n",
        "\n",
        "print(f\"\\n🔍 Mejor umbral: {best_th:.4f} con accuracy: {best_acc:.4f}\")\n"
      ],
      "metadata": {
        "colab": {
          "base_uri": "https://localhost:8080/"
        },
        "id": "VpazwsJhV-2t",
        "outputId": "043f986e-3672-459e-b628-e062a074cf3e"
      },
      "id": "VpazwsJhV-2t",
      "execution_count": null,
      "outputs": [
        {
          "output_type": "stream",
          "name": "stdout",
          "text": [
            "\n",
            "🔍 Mejor umbral: 0.0092 con accuracy: 0.5000\n"
          ]
        }
      ]
    },
    {
      "cell_type": "markdown",
      "source": [
        "### **3. Con este umbral, calcular las prestaciones del detector de anomalías sobre el conjunto de test. Calcular también probabilidad de falsos positivos y de falsos negativos.**"
      ],
      "metadata": {
        "id": "IdmHz9HajEP2"
      },
      "id": "IdmHz9HajEP2"
    },
    {
      "cell_type": "markdown",
      "source": [
        "#### **Evaluar** sobre conjunto de test"
      ],
      "metadata": {
        "id": "AVUrazDsjiId"
      },
      "id": "AVUrazDsjiId"
    },
    {
      "cell_type": "code",
      "source": [
        "\n",
        "# Evaluar sobre conjunto de test\n",
        "autoencoder.eval()\n",
        "test_errors = []\n",
        "test_labels = []\n",
        "\n",
        "with torch.no_grad():\n",
        "    for imgs, lbls in test_loader:\n",
        "        imgs = imgs.to(device)\n",
        "        outputs = autoencoder(imgs)\n",
        "        loss = F.mse_loss(outputs, imgs, reduction='none')\n",
        "        loss = loss.view(loss.size(0), -1).mean(dim=1)\n",
        "        test_errors.extend(loss.cpu().numpy())\n",
        "        test_labels.extend(lbls.numpy())\n",
        "\n",
        "# Convertir a array\n",
        "test_errors = np.array(test_errors).flatten()\n",
        "test_labels = np.array(test_labels).flatten()\n",
        "\n",
        "# Predicciones: 1 si el error supera el umbral (anomalía), 0 si no\n",
        "test_preds = (test_errors > best_th).astype(int)\n",
        "\n",
        "# Accuracy global\n",
        "acc_test = accuracy_score(test_labels, test_preds)\n",
        "print(f\"✅ Accuracy en test: {acc_test:.4f}\")\n"
      ],
      "metadata": {
        "colab": {
          "base_uri": "https://localhost:8080/"
        },
        "id": "edJXOrjvXdck",
        "outputId": "e3d1e0ab-4dd9-405a-84ea-739963de5588"
      },
      "id": "edJXOrjvXdck",
      "execution_count": null,
      "outputs": [
        {
          "output_type": "stream",
          "name": "stdout",
          "text": [
            "✅ Accuracy en test: 0.4850\n"
          ]
        }
      ]
    },
    {
      "cell_type": "markdown",
      "source": [
        "#### **Matriz de confusión**"
      ],
      "metadata": {
        "id": "g4cn3VMrjRQe"
      },
      "id": "g4cn3VMrjRQe"
    },
    {
      "cell_type": "code",
      "source": [
        "# Matriz de confusión\n",
        "cm = confusion_matrix(test_labels, test_preds)\n",
        "tn, fp, fn, tp = cm.ravel()\n",
        "\n",
        "# Cálculo de tasas\n",
        "fp_rate = fp / (fp + tn)\n",
        "fn_rate = fn / (fn + tp)\n",
        "\n",
        "print(f\"🚨 Tasa de falsos positivos (FP rate): {fp_rate:.4f}\")\n",
        "print(f\"⚠️ Tasa de falsos negativos (FN rate): {fn_rate:.4f}\")\n",
        "\n",
        "# Mostrar matriz de confusión\n",
        "plt.figure(figsize=(5, 4))\n",
        "sns.heatmap(cm, annot=True, fmt='d', cmap='Blues', xticklabels=[\"Normal\", \"Anomaly\"], yticklabels=[\"Normal\", \"Anomaly\"])\n",
        "plt.xlabel(\"Predicted\")\n",
        "plt.ylabel(\"True\")\n",
        "plt.title(\"Matriz de confusión en test\")\n",
        "plt.show()"
      ],
      "metadata": {
        "colab": {
          "base_uri": "https://localhost:8080/",
          "height": 445
        },
        "id": "h5DIDxfIjUCw",
        "outputId": "e8502448-ad80-4486-8ad7-6d3f6d66b323"
      },
      "id": "h5DIDxfIjUCw",
      "execution_count": null,
      "outputs": [
        {
          "output_type": "stream",
          "name": "stdout",
          "text": [
            "🚨 Tasa de falsos positivos (FP rate): 0.0299\n",
            "⚠️ Tasa de falsos negativos (FN rate): 1.0000\n"
          ]
        },
        {
          "output_type": "display_data",
          "data": {
            "text/plain": [
              "<Figure size 500x400 with 2 Axes>"
            ],
            "image/png": "[encoded data removed]"
          },
          "metadata": {}
        }
      ]
    },
    {
      "cell_type": "markdown",
      "source": [
        "**¿Qué representan estas métricas?**\n",
        "* **Accuracy**: qué porcentaje de imágenes fueron clasificadas correctamente.\n",
        "\n",
        "* **FP Rate**: cuántos sanos fueron mal clasificados como enfermos.\n",
        "\n",
        "* **FN Rate**: cuántos enfermos fueron mal clasificados como sanos (esto es grave en salud 🧑‍⚕️).\n",
        "\n"
      ],
      "metadata": {
        "id": "kD3A7adDsQzB"
      },
      "id": "kD3A7adDsQzB"
    }
  ],
  "metadata": {
    "accelerator": "GPU",
    "colab": {
      "gpuType": "T4",
      "provenance": []
    },
    "kernelspec": {
      "display_name": "Python 3",
      "name": "python3"
    },
    "language_info": {
      "codemirror_mode": {
        "name": "ipython",
        "version": 3
      },
      "file_extension": ".py",
      "mimetype": "text/x-python",
      "name": "python",
      "nbconvert_exporter": "python",
      "pygments_lexer": "ipython3",
      "version": "3.11.11"
    }
  },
  "nbformat": 4,
  "nbformat_minor": 5
}