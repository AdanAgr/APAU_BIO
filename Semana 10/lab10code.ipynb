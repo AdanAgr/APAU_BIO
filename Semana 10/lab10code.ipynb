{
 "cells": [
  {
   "cell_type": "markdown",
   "id": "42bd4643",
   "metadata": {},
   "source": [
    "# Práctica 10: AEs\n",
    "\n",
    "En esta práctica usaremos un autoencoder como detector de anomalías. Para ello entrenaremos un autoenconder con un conjunto de imágenes de radiografias de tórax de individuos sanos y consideraremos como anomalías las radiografías de individuos con neumonía"
   ]
  },
  {
   "cell_type": "markdown",
   "id": "76da87de",
   "metadata": {},
   "source": [
    "## Dataset\n",
    "\n",
    "Usaremos un subconjunto de [__MedMNIST__](https://medmnist.com/): un dataset con diversos conjuntos de datos de imágenes médicas. En concreto usaremos __PneumoniaMNIST__, que tiene las siguientes características:\n",
    "- Más de 5000 imágenes divididas en conjuntos de training, validation y testing.\n",
    "- Imágenes monocromas de 28x28 píxeles\n",
    "- Directamente utilizable desde pytorch\n",
    "- Cada imagen tiene una etiqueta asociada que indica si la imagen es de un individuo sano o con neumonía.\n",
    "\n",
    "Para poder utilizar el dataset, primero deberemos instalar el paquete medmnist: ``pip install medmnist``\n",
    "\n",
    "A continuación se incluye un código python que permite un acceso básico al dataset y muestra mosaicos de imágenes de individuos sanos y con neumonía."
   ]
  },
  {
   "cell_type": "code",
   "execution_count": null,
   "id": "84ef13ba",
   "metadata": {},
   "outputs": [],
   "source": [
    "import medmnist\n",
    "import torchvision.transforms as transforms\n",
    "from torch.utils.data import DataLoader\n",
    "import matplotlib.pyplot as plt\n",
    "\n",
    "print(medmnist.__version__)\n",
    "from medmnist import PneumoniaMNIST"
   ]
  },
  {
   "cell_type": "code",
   "execution_count": null,
   "id": "9085ebdf-f917-4978-9f55-e727052aeada",
   "metadata": {},
   "outputs": [],
   "source": [
    "# Dataset info\n",
    "download = True\n",
    "print(medmnist.INFO['pneumoniamnist'])\n",
    "DataClass = getattr(__import__('medmnist'), info['python_class'])\n",
    "\n",
    "# Data transforms\n",
    "transform = transforms.Compose([\n",
    "    transforms.ToTensor(),\n",
    "])\n",
    "\n",
    "# Load data\n",
    "train_dataset = DataClass(split='train', transform=transform, download=download)\n",
    "\n",
    "healthy_images = []\n",
    "pneumonia_images = []\n",
    "\n",
    "for img, label in train_dataset:\n",
    "    if label.item() == 0:\n",
    "        healthy_images.append(img.squeeze())  # remove channel dimension\n",
    "    if len(healthy_images)==12:\n",
    "        break\n",
    "\n",
    "for img, label in train_dataset:\n",
    "    if label.item() == 1:\n",
    "        pneumonia_images.append(img.squeeze())  # remove channel dimension\n",
    "    if len(pneumonia_images)==12:\n",
    "        break\n",
    "\n",
    "# Create mosaic\n",
    "fig, axes = plt.subplots(3, 4, figsize=(5, 4))\n",
    "fig.suptitle(\"Healthy (Label = 0) Images from PneumoniaMNIST\", fontsize=16)\n",
    "for i, ax in enumerate(axes.flat):\n",
    "    ax.imshow(healthy_images[i], cmap='gray')\n",
    "    ax.axis('off')\n",
    "plt.tight_layout()\n"
   ]
  },
  {
   "cell_type": "code",
   "execution_count": null,
   "id": "59c1a90b-f4dc-4be8-b0ed-acf5d059a171",
   "metadata": {},
   "outputs": [],
   "source": [
    "# Create mosaic\n",
    "fig, axes = plt.subplots(3, 4, figsize=(5, 4))\n",
    "fig.suptitle(\"Non-healthy (Label = 0) Images from PneumoniaMNIST\", fontsize=16)\n",
    "for i, ax in enumerate(axes.flat):\n",
    "    ax.imshow(pneumonia_images[i], cmap='gray')\n",
    "    ax.axis('off')\n",
    "plt.tight_layout()"
   ]
  },
  {
   "cell_type": "markdown",
   "id": "16220eaa-74ee-4054-8bbf-d3014ec96173",
   "metadata": {},
   "source": [
    "Obsérvese que el dataset estará compuesto de todas las imágenes, y que para distinguirlas habrá que hacer uso de la etiqueta asociada a cada imagen."
   ]
  },
  {
   "cell_type": "markdown",
   "id": "edc9e3af-526c-4661-b25a-350e99d26847",
   "metadata": {},
   "source": [
    "## Modelo\n",
    "\n",
    "Se probarán las prestaciones de modelos autoencoders estándar (AE) y variacionales (VAE). Como punto de partida se propone la estructura propuesta en el paper disponible en el siguiente [enlace](https://essay.utwente.nl/98159/1/Reve_BA_EEMCS.pdf)\n",
    "\n",
    "Obsérvese en la fig. 6 del paper la estructura del autoencoder utilizado, en la cual el _bottleneck_ es de tamaño 4x4x8 = 128 sin aplanar"
   ]
  },
  {
   "cell_type": "markdown",
   "id": "ac9198d1-8fdb-4a04-8b94-3c18eb7b73f5",
   "metadata": {},
   "source": [
    "## Tareas a realizar en la práctica\n",
    "\n",
    "1. Estudiar las características del dataset y plantear un marco experimental adecuado: entrenar con las imágenes del conjunto de training de individuos sanos y usar un conjunto de validación y otro de test balanceados (mismo número de imágenes de individuos sanos y con neumonía)\n",
    "2. Sobre el conjunto de validación, hacer un estudio de la distribución de los errores (media y desviación de los errores, histograma o nube de puntos como en la fig. 5 del paper) y obtener el umbral que minimiza el error de reconocimiento\n",
    "3. Con este umbral, calcular las prestaciones del detector de anomalías sobre el conjunto de test. Calcular también probabilidad de falsos positivos y de falsos negativos."
   ]
  }
 ],
 "metadata": {
  "kernelspec": {
   "display_name": "Python 3 (ipykernel)",
   "language": "python",
   "name": "python3"
  },
  "language_info": {
   "codemirror_mode": {
    "name": "ipython",
    "version": 3
   },
   "file_extension": ".py",
   "mimetype": "text/x-python",
   "name": "python",
   "nbconvert_exporter": "python",
   "pygments_lexer": "ipython3",
   "version": "3.13.2"
  }
 },
 "nbformat": 4,
 "nbformat_minor": 5
}
